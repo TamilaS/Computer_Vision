{
 "cells": [
  {
   "cell_type": "code",
   "execution_count": null,
   "id": "f64be78d",
   "metadata": {},
   "outputs": [],
   "source": [
    "Useful resources:\n",
    "1.https://www.kaggle.com/code/daniel601/pytorch-fasterrcnn/notebook\n",
    "2.https://www.crummy.com/software/BeautifulSoup/bs4/doc/#quick-start\n",
    "3."
   ]
  }
 ],
 "metadata": {
  "kernelspec": {
   "display_name": "Python 3 (ipykernel)",
   "language": "python",
   "name": "python3"
  },
  "language_info": {
   "codemirror_mode": {
    "name": "ipython",
    "version": 3
   },
   "file_extension": ".py",
   "mimetype": "text/x-python",
   "name": "python",
   "nbconvert_exporter": "python",
   "pygments_lexer": "ipython3",
   "version": "3.8.8"
  }
 },
 "nbformat": 4,
 "nbformat_minor": 5
}
